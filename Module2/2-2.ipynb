{
 "cells": [
  {
   "cell_type": "code",
   "execution_count": null,
   "id": "26be948a",
   "metadata": {},
   "outputs": [],
   "source": [
    "x = 20\n",
    "print(x)\n",
    "\n",
    "# Crtl + Shift + P >reload window 重整當機\n",
    "# Crtl + Enter 執行Cell\n",
    "# 往下新增Cell -> B\n",
    "# 往下刪除Cell -> A\n",
    "# 跳出 Cell -> esc\n",
    "# 刪除 Cell -> X\n",
    "# Alt + Shift + ↓/↑ 複製單行程式碼\n",
    "# Shift + space 全形文字\n",
    "# 以上Cell 相關指令只能用在jupiter note book"
   ]
  },
  {
   "cell_type": "code",
   "execution_count": null,
   "id": "9a074af7",
   "metadata": {},
   "outputs": [
    {
     "name": "stdout",
     "output_type": "stream",
     "text": [
      "William\n"
     ]
    }
   ],
   "source": [
    "name = \"William\"\n",
    "print(name)"
   ]
  },
  {
   "cell_type": "code",
   "execution_count": 1,
   "id": "895ceb4a",
   "metadata": {},
   "outputs": [
    {
     "ename": "SyntaxError",
     "evalue": "invalid syntax (1911618356.py, line 1)",
     "output_type": "error",
     "traceback": [
      "  \u001b[36mCell\u001b[39m\u001b[36m \u001b[39m\u001b[32mIn[1]\u001b[39m\u001b[32m, line 1\u001b[39m\n\u001b[31m    \u001b[39m\u001b[31mclass = \"A204\"\u001b[39m\n          ^\n\u001b[31mSyntaxError\u001b[39m\u001b[31m:\u001b[39m invalid syntax\n"
     ]
    }
   ],
   "source": [
    "class = \"A204\""
   ]
  },
  {
   "cell_type": "code",
   "execution_count": null,
   "id": "00a5bab5",
   "metadata": {},
   "outputs": [],
   "source": []
  }
 ],
 "metadata": {
  "kernelspec": {
   "display_name": "Python 3",
   "language": "python",
   "name": "python3"
  },
  "language_info": {
   "codemirror_mode": {
    "name": "ipython",
    "version": 3
   },
   "file_extension": ".py",
   "mimetype": "text/x-python",
   "name": "python",
   "nbconvert_exporter": "python",
   "pygments_lexer": "ipython3",
   "version": "3.14.0"
  }
 },
 "nbformat": 4,
 "nbformat_minor": 5
}
