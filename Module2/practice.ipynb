{
 "cells": [
  {
   "cell_type": "markdown",
   "metadata": {},
   "source": [
    "百貨公司周年慶 消費金額超過 2000 要折 200  \n",
    "\n",
    "請撰寫一支程式  \n",
    "計算客戶消費的結帳金額"
   ]
  },
  {
   "cell_type": "code",
   "execution_count": null,
   "metadata": {},
   "outputs": [],
   "source": [
    "#滿 4000 折 400 滿 6000 折 600\n",
    "#相除減整數與第二題有關"
   ]
  }
 ],
 "metadata": {
  "language_info": {
   "name": "python"
  }
 },
 "nbformat": 4,
 "nbformat_minor": 2
}
